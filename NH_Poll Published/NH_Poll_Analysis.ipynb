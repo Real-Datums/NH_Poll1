{
 "cells": [
  {
   "cell_type": "code",
   "execution_count": 19,
   "metadata": {},
   "outputs": [],
   "source": [
    "import csv\n",
    "\n",
    "f = open('NH_Poll.csv')\n",
    "redacted_f = []\n",
    "nums = {}\n",
    "ticker = 0\n",
    "responses = []\n",
    "for line in f.readlines():\n",
    "    line = line.split(',')\n",
    "    if(line[0] == '0'):\n",
    "        responses.append(line)\n",
    "    if(line[0] == '0' or line[0] == '1'):\n",
    "        if(line[1] not in nums.keys()):\n",
    "            nums[line[1]] = ticker\n",
    "            line[1] = ticker\n",
    "            ticker += 1\n",
    "        else:\n",
    "            line[1] = nums[line[1]]\n",
    "    redacted_f.append(line)\n",
    "f = open('NH_Poll_Redacted.csv', 'w')\n",
    "\n",
    "for line in redacted_f:\n",
    "    i = 0\n",
    "    for word in line:\n",
    "        if(i == 0):\n",
    "            f.write((str)(word))\n",
    "        else:\n",
    "            f.write(',' + (str)(word))\n",
    "        i += 1\n",
    "f.close()\n",
    "\n",
    "with open('NH_Poll.csv', 'r') as csvFile:\n",
    "    csv_reader = csv.reader(csvFile, delimiter=',')\n",
    "    numbers_recorded = []\n",
    "    got = []\n",
    "    for row in csv_reader:\n",
    "        if(len(row) > 0 and row[0] == '0' and row[1] not in numbers_recorded):\n",
    "            numbers_recorded.append(row[1])\n",
    "            got.append(row[3].lower())\n",
    "\n",
    "csvFile.close()"
   ]
  },
  {
   "cell_type": "code",
   "execution_count": null,
   "metadata": {},
   "outputs": [],
   "source": []
  },
  {
   "cell_type": "code",
   "execution_count": 30,
   "metadata": {},
   "outputs": [
    {
     "name": "stdout",
     "output_type": "stream",
     "text": [
      "no\n",
      "it is 2020\n",
      "yes\n",
      "yes \n",
      "yes\n",
      "no \n",
      "no\n",
      "no\n",
      "yes\n",
      "no\n",
      "no\n",
      "take me off this list please \n",
      "yes \n",
      "idk \n",
      "yes\n",
      "stop\n",
      "this is your local sperm bank you jack it we pack it\n",
      "no\n",
      "fuck you!!! \n",
      "no\n",
      "nigger\n",
      "no\n",
      "yes\n",
      "no\n",
      "no\n",
      "fuck off \n",
      "no \n",
      "yes\n",
      "yes\n",
      "yes\n",
      "winning what\n",
      "real question is though are the ponds gonna be ready for monday \n",
      "no?\n",
      "solangelo \n",
      "i lose all the time\n",
      "no\n",
      "fuck him and fuck you \n",
      "yes\n",
      "fuck off\n",
      "yes\n",
      "suck it\n",
      "yes \n",
      "no\n",
      "no\n",
      "please take me off your phone list this is a work phone . \n",
      "yes\n",
      "yes\n",
      "dan meyers\n",
      "no\n",
      "no trump big dickhead\n",
      "stop\n",
      "fuck you\n",
      "yes\n",
      "no\n",
      "no\n",
      "no\n",
      ".\n",
      "no\n",
      "no\n",
      "hell yeah\n",
      "remove \n",
      "yes\n",
      "yes\n",
      "i mean i am a women so not really 😅\n",
      "no\n",
      "no\n",
      "wtf dose \"winning more\" mean \n",
      "yes \n",
      "\n",
      "yes\n",
      "yes\n",
      "yes\n",
      "no\n",
      "no\n",
      "no\n",
      "shut the fuck up\n",
      "block me right now\n",
      "no\n",
      "no\n",
      "trump is a shit person and a corrupt president. he's been impeached and deserves to be thrown out of office\n",
      "no\n",
      "yes\n",
      "what kind of shit is this?\n",
      "[auto-reply]  i'm driving right now - i'll get back to you later.\n",
      "fuck off!\n",
      "fuck you\n",
      "no\n",
      "my nigga\n",
      "no\n",
      "yes\n",
      "i just got this text\n",
      "yes\n",
      "no\n",
      "no\n",
      "yes\n",
      "no\n",
      "that's random\n",
      "no\n",
      "no\n",
      "\n",
      "stop\n",
      "fuck off\n",
      "stop\n",
      "are you kidding. no he's a jackass \n",
      "yes\n",
      "no\n",
      "no\n",
      "yes \n",
      "no\n",
      "no\n",
      "no\n",
      "yes\n",
      "go away \n",
      "no. fuck off\n",
      "yes\n",
      "no\n",
      "no\n",
      "????e02\n",
      "yes \n",
      "love trump.   voting for him again!!!!!!👍\n",
      "no\n",
      "yes\n",
      "go away loser clown 🤡\n",
      "no\n",
      "randomly go away\n",
      "no\n",
      "yes\n",
      "yes\n",
      "stop\n"
     ]
    }
   ],
   "source": [
    "yes = 0\n",
    "no = 0\n",
    "other = 0\n",
    "for item in got:\n",
    "    if('yes' in item):\n",
    "        yes += 1\n",
    "    elif('no' in item):\n",
    "        no += 1\n",
    "    else:\n",
    "        other += 1\n",
    "    print(item)"
   ]
  },
  {
   "cell_type": "code",
   "execution_count": 34,
   "metadata": {},
   "outputs": [
    {
     "data": {
      "image/png": "[encoded data removed]",
      "text/plain": [
       "<Figure size 432x288 with 1 Axes>"
      ]
     },
     "metadata": {},
     "output_type": "display_data"
    }
   ],
   "source": [
    "import matplotlib.pyplot as plt\n",
    "\n",
    "\n",
    "b = yes\n",
    "a = no\n",
    "c = other\n",
    "labels = 'Yes', 'No', 'Other'\n",
    "sizes = [b, a, c]\n",
    "plt.style.use('fivethirtyeight')\n",
    "fig, ax = plt.subplots()\n",
    "ax.pie(sizes, labels=labels, autopct='%.1f%%')\n",
    "plt.show()\n",
    "fig.savefig('NH_Poll.png')"
   ]
  },
  {
   "cell_type": "code",
   "execution_count": 33,
   "metadata": {
    "scrolled": true
   },
   "outputs": [],
   "source": [
    "f = open('NH_Poll_Summary.txt', 'w')\n",
    "f.write('n = 1898 people with phone numbers beginning in +1603534 were polled.\\n')\n",
    "f.write('There were ' +  (str)(len(got)) + ' respondants.\\n')\n",
    "f.write('Of those responses, ' + (str)(yes) + ' contained \"yes\". \\n')\n",
    "f.write('Of those responses, ' + (str)(no) + ' contained \"no\". \\n')\n",
    "f.write('Of those responses, ' + (str)(other) +  ' contained neither. \\n')\n",
    "\n",
    "f.close()"
   ]
  },
  {
   "cell_type": "code",
   "execution_count": 24,
   "metadata": {},
   "outputs": [
    {
     "data": {
      "text/plain": [
       "9"
      ]
     },
     "execution_count": 24,
     "metadata": {},
     "output_type": "execute_result"
    }
   ],
   "source": [
    "fuck"
   ]
  },
  {
   "cell_type": "code",
   "execution_count": 25,
   "metadata": {},
   "outputs": [
    {
     "data": {
      "text/plain": [
       "30"
      ]
     },
     "execution_count": 25,
     "metadata": {},
     "output_type": "execute_result"
    }
   ],
   "source": [
    "other"
   ]
  },
  {
   "cell_type": "code",
   "execution_count": 14,
   "metadata": {},
   "outputs": [],
   "source": []
  },
  {
   "cell_type": "code",
   "execution_count": null,
   "metadata": {},
   "outputs": [],
   "source": []
  }
 ],
 "metadata": {
  "kernelspec": {
   "display_name": "Python 3",
   "language": "python",
   "name": "python3"
  },
  "language_info": {
   "codemirror_mode": {
    "name": "ipython",
    "version": 3
   },
   "file_extension": ".py",
   "mimetype": "text/x-python",
   "name": "python",
   "nbconvert_exporter": "python",
   "pygments_lexer": "ipython3",
   "version": "3.7.3"
  }
 },
 "nbformat": 4,
 "nbformat_minor": 2
}
